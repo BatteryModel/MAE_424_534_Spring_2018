{
 "cells": [
  {
   "cell_type": "markdown",
   "metadata": {},
   "source": [
    "# Lecture 06: Introduction to Dualfoil\n",
    "---"
   ]
  },
  {
   "cell_type": "markdown",
   "metadata": {},
   "source": [
    "## Welcome to Dualfoil\n",
    "\n",
    "[Dualfoil](http://www.cchem.berkeley.edu/jsngrp/fortran.html) is the result of ~30+ years of electrochemical engineering by [John Newman](https://en.wikipedia.org/wiki/John_Newman_(scientist)). \n",
    "\n",
    "\n",
    "\n",
    "## What Dualfoil is\n",
    "In short: Dualfoil is a one-dimensional battery simulation program that models the transport of ions across a battery and imposes butler-volmer type kinetics for reactions, allowing the user to determine what overpotentials will be applied to the open circuit potential of a battery. As Josh Gallaway put so well, \"an operating battery is never at steady state\", and Dualfoil excels and mapping and tracking the transients. \n",
    "\n",
    "Dualfoil works by assuming the that battery is overlapping continuous media of electrode and electrolyte, and  assigns \"porosity\" via user defined parameter to determine the relative role of each component in the battery. Solid state diffusion is considered via an average particle size. \n",
    "\n",
    "For more detailed readings on how this all works, please see\n",
    "\n",
    "- [Doyle 1993](http://jes.ecsdl.org/content/140/6/1526)\n",
    "- [Fuller 1994](http://jes.ecsdl.org/content/141/1/1)\n",
    "- [Fuller 1994](http://jes.ecsdl.org/content/141/4/982)\n",
    "\n",
    "## What Dualfoil does\n",
    "Per the [official documentation](http://www.cchem.berkeley.edu/jsngrp/fortran_files/Intro_Dualfoil5.pdf), the \"inexperienced user should be able to\n",
    "\n",
    ">- Change the operating mode and other operating parameters (such as current).\n",
    "These changes can be made in the input file just beneath the line that specifies\n",
    "lcurs.  \n",
    "- Adjust the cell geometrical parameters, such as thicknesses and porosities. These\n",
    "changes are made in the input file.  \n",
    "- Modify the initial and ambient temperature, and select whether a run is carried out\n",
    "isothermally or nonisothermally. Adjust the activation energies. These changes\n",
    "are made either in the main input file or, in the case of the activation energies, in\n",
    "the “ebar” input file.  \n",
    "- Adjust parameters such as the solid-state diffusion coefficients, rate constants for\n",
    "the main reaction, and solid-phase conductivity to explore the effects of different\n",
    "types of resistances. These adjustments can all be made in the main input file.\n",
    "Note that the liquid-phase diffusion coefficient and conductivity are in subroutine\n",
    "prop; different solvents and electrolytes are chosen in the main input file.  \n",
    "- Change the materials in the system, including the anode, cathode, and electrolyte.\n",
    "This is done near the bottom of the input file.  \n",
    "- Run the system in impedance mode. This is done by changing “imp” from 0 to 1\n",
    "in the main input file. Note that impedance mode only works with a single\n",
    "particle, isothermal operation, superposition to calculate solid-state diffusion, and\n",
    "no side reactions. Also, the mode should be galvanostatic and the current should\n",
    "be set to zero when running the impedance mode.  \n",
    "- Input and run the system with a variable diffusion coefficient. Change mvdc1\n",
    "and/or mvdc3 to 1, and input the desired function and its derivative for the\n",
    "dependence of the solid-state diffusion coefficient on concentration and\n",
    "temperature. The functions can be found by searching for the phrase “For a true\n",
    "variable solid-phase diffusion coefficient.”  \n",
    "- Add additional materials for which the user has data. The user should change the\n",
    "appropriate value of nneg, nprop, or npos to “Add your own,” and then input the\n",
    "appropriate data in subroutine ekin (for a user’s own electrode material) or nprop\n",
    "(for a user’s own electrolyte).  \n",
    "- Change the number, size, and fraction of particles in each electrode. For this the\n",
    "user needs to go to the main code and search for “npa=” Here, the user should\n",
    "input the number of particles that are desired (from 1 to 5). To use nonuniform\n",
    "particles, search for “For nonuniform particles use this section” and uncomment\n",
    "the code in this section. This part of the code is currently set up to model a twoparticle\n",
    "distribution, and the user should be able to follow this example and read\n",
    "the comments in this section to make additional changes.  \n",
    "- (More advanced) Switch from a side reaction framework intended for a NiMH\n",
    "cell to one for a Li-ion cell. Some changes the user may want to make in this case\n",
    "are listed here. Change the phase in which the reaction occurs by changing the\n",
    "volume fractions used in the material balance in equation i7. Change the\n",
    "stoichiometry of the reaction by changing the value of “sf” in equation i7.\n",
    "Change the side reaction kinetics to make them appropriate for a side reaction in a\n",
    "lithium ion system by changing the location of comments in equation i8. \n",
    "\n",
    "\n",
    "## What Dualfoil does _not_ do\n",
    "- Dualfoil will not tell you much about heterogenity within a battery, since it is one dimensional and abstracts the structure of a battery as two superimposed media, or the \"macrohomogenous model\".\n",
    "- It will not explicitly predict materials or structuraldegredation, so it will not tell you how the capacity of a battery will fade.\n",
    "- It will not tell you explicitly when a battery will explode.\n",
    "- It does not tell you what the system level energy density or power density will be, nor does it model a system. It models an individual cell of a semi-inifite size.\n",
    "\n",
    "I've created an archive [here](https://github.com/dansteingart/dualfoil5).\n",
    "\n",
    "I've also made a python wrapper that makes changing parameters within the program a bit easier. Let's walk through that below.\n"
   ]
  },
  {
   "cell_type": "markdown",
   "metadata": {},
   "source": [
    "## Using The Dualfoil Simulator\n",
    "\n",
    "The Dualfoil simulator is a fortran program that takes a textual input file and returns a series of delimited output files that are a schlep to parse. I've done the dirty work and written a wrapper that reads the input file into a python dictionary that you can alter, write out, run the simulation and then read the resultant datasets into a pandas dataframe. Below is an example of how to use it:"
   ]
  },
  {
   "cell_type": "markdown",
   "metadata": {},
   "source": [
    "first, import what we need"
   ]
  },
  {
   "cell_type": "code",
   "execution_count": 1,
   "metadata": {},
   "outputs": [],
   "source": [
    "import sys\n",
    "sys.path.append(\"/pithy/code\")\n",
    "from pithy import *\n",
    "import dualfoil\n",
    "%matplotlib inline"
   ]
  },
  {
   "cell_type": "markdown",
   "metadata": {},
   "source": [
    "dualfoil and pithy aren't on my python path, so I'm using sys to add them for this script. \n",
    "\n",
    "Then, make a dualfoil object. The argument just creates a unique directory for the output files. "
   ]
  },
  {
   "cell_type": "code",
   "execution_count": 2,
   "metadata": {},
   "outputs": [
    {
     "name": "stdout",
     "output_type": "stream",
     "text": [
      "\n",
      "\n"
     ]
    }
   ],
   "source": [
    "#instantiate simulator\n",
    "df = dualfoil.dualfoil(\"user\")"
   ]
  },
  {
   "cell_type": "markdown",
   "metadata": {},
   "source": [
    "These simulations can take a while, and are deterministic (a given input file will always return the same result), so there's no reason to re-run the exact same simulation. The python wrapper saves all of the output files you generate and then checks to see if you've already run a given simulation. If you have it automatically returns the result. If you have not it runs the simulation.\n",
    "\n",
    "Next, we can decide to change parameters. Below I'm changing the porosity and the electrode thickness."
   ]
  },
  {
   "cell_type": "code",
   "execution_count": 3,
   "metadata": {},
   "outputs": [],
   "source": [
    "#specify cell properties\n",
    "df.parts['ep1'] = .31 #set porosity on reducing electrode\n",
    "df.parts['h1'] = 100e-6 #set thickness of negative (µm)\n",
    "df.parts['h3'] = 100e-6 #set thickoness of positive (µm)"
   ]
  },
  {
   "cell_type": "markdown",
   "metadata": {},
   "source": [
    "The full parameter list is avilable here https://github.com/dansteingart/dualfoil5/blob/master/df5.1/dualfoil5.in\n",
    "\n",
    "Now we set up the simulated test. Per the settings below I am going to run a common cycle on the battery. All current is current density, in $\\frac{A}{m^2}$, time is set in minutes. \n",
    "\n",
    "- `df.clear_cycles()` resets the cycling behavior, and should be run before setting a new protocol.  \n",
    "- `df.set_ocv(x)` sets the battery to rest for x minutes.  \n",
    "- `df.set_current(y,x,minv=z,maxv=zz)` sets the battery to draw/provide y current for x minutes or until a voltage defined by minv or maxv is hit. minv and maxv are optional, but recommended, parameters.  \n",
    "- `df.writeout()` writes the parameters to disk.  \n"
   ]
  },
  {
   "cell_type": "code",
   "execution_count": 4,
   "metadata": {},
   "outputs": [],
   "source": [
    "#write changes to disk and run simulation\n",
    "df.clear_cycles()\n",
    "df.set_ocv(10) #set ocv for 10 minutes\n",
    "df.set_current(10,10000,minv=3.3) #discharge at 30 A/m^2 for 40 minutes\n",
    "#df.set_ocv(10) #set ocv for 10 minutes\n",
    "df.set_current(-10,10000,maxv=4.2) #charge for 40 minutes @ 30 A/m^3df.writeOut()\n",
    "df.set_ocv(10) #set ocv for 10 minutes\n",
    "df.writeout()"
   ]
  },
  {
   "cell_type": "markdown",
   "metadata": {},
   "source": [
    "Now, let's run the simulation. \n",
    "\n",
    "- `df.runDualFoil()` will run the simulation with the written parameters. \n",
    "  - optional arguments  \n",
    "    - `debug=True/False` will show extra output regarding the existence of an identical input file\n",
    "    - `output=True` will show the step state of the simulation\n",
    "    - `force=True` will force the simulation to run, even if an identical output file exists\n",
    "    \n",
    "Below I'm forcing the simulation to run for the sake of this demo, you should omit that flag in your normal usage."
   ]
  },
  {
   "cell_type": "code",
   "execution_count": 5,
   "metadata": {},
   "outputs": [
    {
     "name": "stdout",
     "output_type": "stream",
     "text": [
      "Time Difference Between last input and output: 84640.1316359  s\n",
      "input older than output: analysis is not current: running simulation\n",
      "\n",
      "   Time     Util N  Util P  Cell Pot   Uocp      Curr      Temp   heatgen\n",
      "   (min)       x       y      (V)       (V)      (A/m2)    (C)    (W/m2)\n",
      "   10.033, 0.5999, 0.5001,  4.05069,  4.06260,    10.00,  24.85,   0.12, \n",
      "   17.179, 0.5697, 0.5174,  4.02500,  4.04610,    10.00,  24.85,   0.21, \n",
      "   45.907, 0.4485, 0.5872,  3.84335,  3.86207,    10.00,  24.85,   0.19, \n",
      "   74.634, 0.3273, 0.6569,  3.77074,  3.78981,    10.00,  24.85,   0.19, \n",
      "  103.362, 0.2061, 0.7267,  3.68407,  3.70789,    10.00,  24.85,   0.24, \n",
      "  146.484, 0.0245, 0.8313,  3.38586,  3.51979,   -10.00,  24.85,  -1.34, \n",
      "  146.484, 0.0245, 0.8313,  3.38586,  3.51979,   -10.00,  24.85,  -1.34, \n",
      "  153.120, 0.0525, 0.8152,  3.62694,  3.60571,   -10.00,  24.85,   0.21, \n",
      "  210.575, 0.2948, 0.6756,  3.78728,  3.77060,   -10.00,  24.85,   0.17, \n",
      "  239.303, 0.4160, 0.6059,  3.86126,  3.84293,   -10.00,  24.85,   0.19, \n",
      "  268.031, 0.5372, 0.5361,  4.01559,  3.99767,   -10.00,  24.85,   0.18, \n",
      "  296.759, 0.6584, 0.4664,  4.12028,  4.10230,   -10.00,  24.85,   0.18, \n",
      "  321.897, 0.7645, 0.4053,  4.18982,  4.18158,     0.00,  24.85,   0.02, \n",
      "  \n",
      "\n",
      "<subprocess.Popen object at 0x7f369be624d0>\n",
      "mkdir: cannot create directory 'df_user/files/': File exists\n",
      "\n"
     ]
    }
   ],
   "source": [
    "df.runDualFoil(debug=True,output=True,force=True)"
   ]
  },
  {
   "cell_type": "markdown",
   "metadata": {},
   "source": [
    "When the simulation is finished, we can read it into a pandas dataframe with \n",
    "\n",
    "- `data = df.readoutput()`\n",
    "\n",
    "You can then interact with the data anyway you want now. I've made a helper function \n",
    "\n",
    "- `df.ivtplot()` to plot potential and current vs. time. If you apply the `ir_emph=True` flag it will show the difference between the eq potential and the actual potential."
   ]
  },
  {
   "cell_type": "code",
   "execution_count": 6,
   "metadata": {},
   "outputs": [
    {
     "name": "stdout",
     "output_type": "stream",
     "text": [
      "[0.0, 104.95, -139.18, 0.0] in W*h/kg\n"
     ]
    },
    {
     "data": {
      "image/png": "[encoded data removed]",
      "text/plain": [
       "<matplotlib.figure.Figure at 0x7f365f518190>"
      ]
     },
     "metadata": {},
     "output_type": "display_data"
    },
    {
     "data": {
      "text/plain": [
       "<matplotlib.figure.Figure at 0x7f365f347690>"
      ]
     },
     "metadata": {},
     "output_type": "display_data"
    }
   ],
   "source": [
    "data = df.readoutput() #output of ivt in dataframe format\n",
    "print data['se'],\"in W*h/kg\"\n",
    "df.ivtplot(ir_emph=True)"
   ]
  },
  {
   "cell_type": "markdown",
   "metadata": {},
   "source": [
    "Below find a simulation run at a much high rate."
   ]
  },
  {
   "cell_type": "code",
   "execution_count": 7,
   "metadata": {},
   "outputs": [
    {
     "name": "stdout",
     "output_type": "stream",
     "text": [
      "Time Difference Between last input and output: 0.807999134064  s\n",
      "input older than output: analysis is not current: running simulation\n",
      "\n",
      "   Time     Util N  Util P  Cell Pot   Uocp      Curr      Temp   heatgen\n",
      "   (min)       x       y      (V)       (V)      (A/m2)    (C)    (W/m2)\n",
      "   10.033, 0.5972, 0.5016,  3.87552,  4.06117,   200.00,  24.85,  37.11, \n",
      "   10.033, 0.5972, 0.5016,  3.87552,  4.06117,   200.00,  24.85,  37.11, \n",
      "   13.458, 0.3082, 0.6679,  3.33475,  3.77843,   200.00,  24.85,  85.39, \n",
      "   13.458, 0.3082, 0.6679,  3.33475,  3.77843,   200.00,  24.85,  85.39, \n",
      "   13.920, 0.2941, 0.6760,  3.88691,  3.77019,  -200.00,  24.85,  30.48, \n",
      "   15.780, 0.4483, 0.5873,  4.02190,  3.86188,     0.00,  24.85,   0.49, \n",
      "  \n",
      "\n",
      "<subprocess.Popen object at 0x7f365f27d850>\n",
      "mkdir: cannot create directory 'df_user/files/': File exists\n",
      "\n",
      "[0.0, 54.06, -32.61, 0.0] in W*h/kg\n"
     ]
    },
    {
     "data": {
      "image/png": "[encoded data removed]",
      "text/plain": [
       "<matplotlib.figure.Figure at 0x7f365f51f810>"
      ]
     },
     "metadata": {},
     "output_type": "display_data"
    },
    {
     "data": {
      "text/plain": [
       "<matplotlib.figure.Figure at 0x7f365f191b10>"
      ]
     },
     "metadata": {},
     "output_type": "display_data"
    }
   ],
   "source": [
    "#write changes to disk and run simulation\n",
    "df.clear_cycles()\n",
    "df.set_ocv(10) #set ocv for 10 minutes\n",
    "df.set_current(200,10000,minv=3.3) #discharge at 30 A/m^2 for 40 minutes\n",
    "#df.set_current(0,10) #set ocv for 10 minutes\n",
    "df.set_current(-200,10000,maxv=4.2) #charge for 40 minutes @ 30 A/m^3df.writeOut()\n",
    "df.set_ocv(10) #set ocv for 10 minutes\n",
    "df.writeOut()\n",
    "df.runDualFoil(debug=True,output=True,force=True)\n",
    "data = df.readOutput() #output of ivt in dataframe format\n",
    "print data['se'],\"in W*h/kg\"\n",
    "df.ivtplot(ir_emph=True)"
   ]
  }
 ],
 "metadata": {
  "kernelspec": {
   "display_name": "Python 2",
   "language": "python",
   "name": "python2"
  },
  "language_info": {
   "codemirror_mode": {
    "name": "ipython",
    "version": 2
   },
   "file_extension": ".py",
   "mimetype": "text/x-python",
   "name": "python",
   "nbconvert_exporter": "python",
   "pygments_lexer": "ipython2",
   "version": "2.7.12"
  }
 },
 "nbformat": 4,
 "nbformat_minor": 2
}
