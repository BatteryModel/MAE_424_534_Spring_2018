{
 "cells": [
  {
   "cell_type": "markdown",
   "metadata": {},
   "source": [
    "# Lecture EXTRA: Determining a Pathway to Fast Charge\n",
    "---\n",
    "## Motivation\n",
    "A goal for modern electric vehicles is to have the effective charge rate match that of refueling a gas tank. What is required from both the charger and the battery to get this done?\n",
    "\n",
    "We'll use some back of the envelope estimate and dualfoil to determine what engineering pathway might get us there."
   ]
  },
  {
   "cell_type": "code",
   "execution_count": 2,
   "metadata": {},
   "outputs": [],
   "source": [
    "import sys\n",
    "sys.path.append(\"/pithy/code\")\n",
    "from pithy import *\n",
    "import dualfoil\n",
    "import sympy\n",
    "%matplotlib inline"
   ]
  },
  {
   "cell_type": "markdown",
   "metadata": {},
   "source": [
    "## The Charger\n",
    "When we pump gasoline into a tank, how do we get an equivalent charge rate?\n",
    "\n",
    "Let's take the energy density of gasoline, and assume a 2 minute fill up for a 16 gallon tank."
   ]
  },
  {
   "cell_type": "code",
   "execution_count": 3,
   "metadata": {},
   "outputs": [
    {
     "name": "stdout",
     "output_type": "stream",
     "text": [
      "Fuel Power: 17333333.3333333*watt , Effective Power 3466666.66666667*watt\n"
     ]
    }
   ],
   "source": [
    "from sympy.physics.units import *\n",
    "gallon = 3.78541*liter\n",
    "ed_gasoline = 1.3e8 *J/gallon\n",
    "fill_time = 120 * second\n",
    "tank_size = 16 * gallon\n",
    "power_req = ed_gasoline * tank_size/fill_time\n",
    "megawatt = 1e6*watt\n",
    "rate = convert_to(power_req,megawatt)\n",
    "pump_to_wheels = .2\n",
    "print \"Fuel Power:\",rate,', Effective Power',pump_to_wheels*rate"
   ]
  },
  {
   "cell_type": "markdown",
   "metadata": {},
   "source": [
    "This is a rate of charge of 17 **MW**. Even assuming a pump to wheels efficiency of 20%, this is ~3.5MW from a single charge station. \n",
    "\n",
    "By way of comparison, a level three charger is currently ~80 **kW**. So this charging infrastructure is a non-trivial step beyond where we are now.\n",
    "\n",
    "Let's take a look at the battery"
   ]
  },
  {
   "cell_type": "markdown",
   "metadata": {},
   "source": [
    "## The Battery\n",
    "\n",
    "So how do we determine what configuration of battery might get us to such an effective charge rate?\n",
    "\n",
    "Let's first take the standard configuration in dualfoil, discharge it at a slow rate (to determine maximum capacity), and then charge it at a rate that should get us to two minutes to fill."
   ]
  },
  {
   "cell_type": "code",
   "execution_count": 4,
   "metadata": {},
   "outputs": [
    {
     "name": "stdout",
     "output_type": "stream",
     "text": [
      "\n",
      "\n"
     ]
    }
   ],
   "source": [
    "#instantiate simulator\n",
    "df = dualfoil.dualfoil(\"user\")"
   ]
  },
  {
   "cell_type": "code",
   "execution_count": 5,
   "metadata": {},
   "outputs": [
    {
     "data": {
      "text/plain": [
       "0"
      ]
     },
     "execution_count": 5,
     "metadata": {},
     "output_type": "execute_result"
    }
   ],
   "source": [
    "rate = 1 #A/m^2\n",
    "df.clear_cycles()\n",
    "df.set_current(rate,10000000,minv=3.2) #discharge at i A/m^2 for until we hit cutoff minv\n",
    "df.writeOut()\n",
    "df.runDualFoil(debug=False,output=True,force=False) #don't force dualfoil to run, show realtime output"
   ]
  },
  {
   "cell_type": "code",
   "execution_count": 6,
   "metadata": {},
   "outputs": [
    {
     "data": {
      "text/plain": [
       "1416.8969999999999"
      ]
     },
     "execution_count": 6,
     "metadata": {},
     "output_type": "execute_result"
    }
   ],
   "source": [
    "data = df.readOutput()\n",
    "discharge_time = max(data['t'])-min(data['t'])\n",
    "discharge_time "
   ]
  },
  {
   "cell_type": "markdown",
   "metadata": {},
   "source": [
    "So, in order to find a rate that gets us to 2 minutes full up:"
   ]
  },
  {
   "cell_type": "code",
   "execution_count": 7,
   "metadata": {},
   "outputs": [],
   "source": [
    "target_time = 2.0\n",
    "fast_rate = rate*discharge_time/target_time"
   ]
  },
  {
   "cell_type": "markdown",
   "metadata": {},
   "source": [
    "Now, let's rebuild a cycling protocol to test this out. We'll put a potential hold after the run to \"top\" off the battery"
   ]
  },
  {
   "cell_type": "code",
   "execution_count": 8,
   "metadata": {},
   "outputs": [
    {
     "name": "stdout",
     "output_type": "stream",
     "text": [
      "   Time     Util N  Util P  Cell Pot   Uocp      Curr      Temp   heatgen\n",
      "   (min)       x       y      (V)       (V)      (A/m2)    (C)    (W/m2)\n",
      "    1.012, 0.5996, 0.5002,  4.06090,  4.06244,     1.00,  24.85,   0.00, \n",
      "   53.862, 0.5777, 0.5131,  4.04944,  4.05123,     1.00,  24.85,   0.00, \n",
      "   82.590, 0.5657, 0.5201,  4.03869,  4.04092,     1.00,  24.85,   0.00, \n",
      "  111.318, 0.5538, 0.5270,  4.01336,  4.01589,     1.00,  24.85,   0.00, \n",
      "  168.773, 0.5300, 0.5410,  3.99138,  3.99332,     1.00,  24.85,   0.00, \n",
      "  197.501, 0.5181, 0.5480,  3.98162,  3.98386,     1.00,  24.85,   0.00, \n",
      "  226.229, 0.5062, 0.5549,  3.96454,  3.96716,     1.00,  24.85,   0.00, \n",
      "  254.957, 0.4942, 0.5619,  3.93936,  3.94225,     1.00,  24.85,   0.00, \n",
      "  283.685, 0.4823, 0.5689,  3.91053,  3.91337,     1.00,  24.85,   0.00, \n",
      "  341.141, 0.4585, 0.5828,  3.86787,  3.87001,     1.00,  24.85,   0.00, \n",
      "  369.868, 0.4466, 0.5898,  3.85684,  3.85874,     1.00,  24.85,   0.00, \n",
      "  398.596, 0.4346, 0.5968,  3.84938,  3.85117,     1.00,  24.85,   0.00, \n",
      "  427.324, 0.4227, 0.6038,  3.84319,  3.84496,     1.00,  24.85,   0.00, \n",
      "  484.780, 0.3989, 0.6177,  3.83045,  3.83224,     1.00,  24.85,   0.00, \n",
      "  513.508, 0.3870, 0.6247,  3.82334,  3.82515,     1.00,  24.85,   0.00, \n",
      "  542.236, 0.3751, 0.6317,  3.81583,  3.81764,     1.00,  24.85,   0.00, \n",
      "  599.691, 0.3512, 0.6456,  3.80041,  3.80213,     1.00,  24.85,   0.00, \n",
      "  628.419, 0.3393, 0.6526,  3.79278,  3.79448,     1.00,  24.85,   0.00, \n",
      "  657.147, 0.3274, 0.6596,  3.78521,  3.78704,     1.00,  24.85,   0.00, \n",
      "  685.875, 0.3155, 0.6665,  3.77785,  3.77984,     1.00,  24.85,   0.00, \n",
      "  714.603, 0.3036, 0.6735,  3.77075,  3.77284,     1.00,  24.85,   0.00, \n",
      "  772.059, 0.2797, 0.6875,  3.75698,  3.75889,     1.00,  24.85,   0.00, \n",
      "  800.787, 0.2678, 0.6944,  3.74964,  3.75159,     1.00,  24.85,   0.00, \n",
      "  829.514, 0.2559, 0.7014,  3.74183,  3.74385,     1.00,  24.85,   0.00, \n",
      "  858.242, 0.2440, 0.7084,  3.73346,  3.73557,     1.00,  24.85,   0.00, \n",
      "  915.698, 0.2201, 0.7224,  3.71506,  3.71732,     1.00,  24.85,   0.00, \n",
      "  944.426, 0.2082, 0.7293,  3.70516,  3.70749,     1.00,  24.85,   0.00, \n",
      "  973.154, 0.1963, 0.7363,  3.69498,  3.69736,     1.00,  24.85,   0.00, \n",
      " 1001.882, 0.1844, 0.7433,  3.68468,  3.68708,     1.00,  24.85,   0.00, \n",
      " 1030.610, 0.1725, 0.7503,  3.67437,  3.67680,     1.00,  24.85,   0.00, \n",
      " 1088.065, 0.1486, 0.7642,  3.65373,  3.65623,     1.00,  24.85,   0.00, \n",
      " 1116.793, 0.1367, 0.7712,  3.64289,  3.64546,     1.00,  24.85,   0.00, \n",
      " 1145.521, 0.1248, 0.7782,  3.63218,  3.63467,     1.00,  24.85,   0.00, \n",
      " 1174.249, 0.1129, 0.7851,  3.62406,  3.62621,     1.00,  24.85,   0.00, \n",
      " 1202.977, 0.1010, 0.7921,  3.61965,  3.62150,     1.00,  24.85,   0.00, \n",
      " 1260.433, 0.0771, 0.8061,  3.61354,  3.61550,     1.00,  24.85,   0.00, \n",
      " 1289.160, 0.0652, 0.8130,  3.60922,  3.61132,     1.00,  24.85,   0.00, \n",
      " 1317.888, 0.0533, 0.8200,  3.60294,  3.60536,     1.00,  24.85,   0.00, \n",
      " 1346.616, 0.0414, 0.8270,  3.58977,  3.59340,     1.00,  24.85,   0.00, \n",
      " 1375.344, 0.0295, 0.8340,  3.54770,  3.55637,     1.00,  24.85,   0.01, \n",
      " 1404.072, 0.0175, 0.8409,  3.38405,  3.41382,     1.00,  24.85,   0.03, \n",
      " 1416.921, 0.0193, 0.8399,  4.06715,  3.44936,  -708.45,  24.85, 428.46, \n",
      " 1416.921, 0.0193, 0.8399,  4.06715,  3.44936,  -708.45,  24.85, 428.46, \n",
      " 1416.921, 0.0193, 0.8399,  4.06715,  3.44936,  -708.45,  24.85, 428.46, \n",
      " 1417.108, 0.0698, 0.8104,  3.86953,  3.61306,   -70.84,  24.85,  18.24, \n",
      " 1421.328, 0.1938, 0.7378,  3.82535,  3.69518,   -70.84,  24.85,   8.98, \n",
      " 1442.743, 0.8230, 0.3695,  4.32688,  4.22744,    -1.00,  24.85,   0.72, \n",
      " 1444.533, 0.8237, 0.3690,  4.23721,  4.22802,    -1.00,  24.85,   0.08, \n",
      " 1470.949, 0.8347, 0.3626,  4.23904,  4.23674,    -1.00,  24.85,   0.00, \n",
      " 1499.677, 0.8466, 0.3556,  4.24903,  4.24668,    -1.00,  24.85,   0.00, \n",
      " 1528.405, 0.8585, 0.3487,  4.25993,  4.25743,    -1.00,  24.85,   0.00, \n",
      " 1585.861, 0.8824, 0.3347,  4.28952,  4.28586,    -1.00,  24.85,   0.00, \n",
      " 1614.589, 0.8943, 0.3277,  4.31501,  4.31002,    -1.00,  24.85,   0.00, \n",
      " 1643.317, 0.9062, 0.3208,  4.34594,  4.34095,    -1.00,  24.85,   0.01, \n",
      " 1700.772, 0.9300, 0.3068,  4.39121,  4.38775,    -1.00,  24.85,   0.00, \n",
      " 1715.169, 0.9360, 0.3033,  4.40000,  4.39675,    -0.96,  24.85,   0.00, \n",
      " 1722.315, 0.9374, 0.3025,  4.40000,  4.39873,    -0.21,  24.85,   0.00, \n",
      " 1722.315, 0.9374, 0.3025,  4.40000,  4.39873,    -0.21,  24.85,   0.00, \n",
      " 1751.043, 0.9378, 0.3023,  4.40000,  4.39936,    -0.00,  24.85,   0.00, \n",
      " 1808.499, 0.9378, 0.3023,  4.40000,  4.39937,    -0.00,  24.85,   0.00, \n",
      "  \n",
      "\n"
     ]
    },
    {
     "data": {
      "image/png": "[encoded data removed]",
      "text/plain": [
       "<matplotlib.figure.Figure at 0x7fb0e5051350>"
      ]
     },
     "metadata": {},
     "output_type": "display_data"
    },
    {
     "data": {
      "text/plain": [
       "<matplotlib.figure.Figure at 0x7fb0e5201290>"
      ]
     },
     "metadata": {},
     "output_type": "display_data"
    }
   ],
   "source": [
    "df.clear_cycles()\n",
    "df.set_current(rate,10000000,minv=3.2) #discharge at i A/m^2 for until we hit cutoff minv\n",
    "df.set_current(0,10,minv=3.2) #relax\n",
    "df.set_current(-1*fast_rate,100000000,maxv=4.4) #negative rates = charge\n",
    "df.set_current(-.1*fast_rate,10000000,maxv=4.4)\n",
    "df.set_current(-1*rate,1000,maxv=4.4)\n",
    "df.set_potential(4.4,100)\n",
    "df.writeOut()\n",
    "df.runDualFoil(debug=False,output=True,force=False) #don't force dualfoil to run, show realtime output\n",
    "df.ivtplot(ir_emph=True)\n"
   ]
  },
  {
   "cell_type": "markdown",
   "metadata": {},
   "source": [
    "As we can see from the figure above and the utilization calculation, this battery is really quite impeding at the rate required to fill the cell up in two minutes. As a guess, let's try to reduce the thickness of the electrodes to encourage a faster charge. In the script below, we'll run the simulation twice in one go to get the full capacity and then set the charge rate"
   ]
  }
 ],
 "metadata": {
  "kernelspec": {
   "display_name": "Python 2",
   "language": "python",
   "name": "python2"
  },
  "language_info": {
   "codemirror_mode": {
    "name": "ipython",
    "version": 2
   },
   "file_extension": ".py",
   "mimetype": "text/x-python",
   "name": "python",
   "nbconvert_exporter": "python",
   "pygments_lexer": "ipython2",
   "version": "2.7.12"
  }
 },
 "nbformat": 4,
 "nbformat_minor": 2
}
