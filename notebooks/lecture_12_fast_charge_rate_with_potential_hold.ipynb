{
 "cells": [
  {
   "cell_type": "markdown",
   "metadata": {},
   "source": [
    "# Lecture EXTRA: Determining a Pathway to Fast Charge\n",
    "---\n",
    "## Motivation\n",
    "A goal for modern electric vehicles is to have the effective charge rate match that of refueling a gas tank. What is required from both the charger and the battery to get this done?\n",
    "\n",
    "We'll use some back of the envelope estimate and dualfoil to determine what engineering pathway might get us there."
   ]
  },
  {
   "cell_type": "code",
   "execution_count": 1,
   "metadata": {},
   "outputs": [],
   "source": [
    "import sys\n",
    "sys.path.append(\"/pithy/code\")\n",
    "from pithy import *\n",
    "import dualfoil\n",
    "import sympy\n",
    "%matplotlib inline"
   ]
  },
  {
   "cell_type": "markdown",
   "metadata": {},
   "source": [
    "## The Charger\n",
    "When we pump gasoline into a tank, how do we get an equivalent charge rate?\n",
    "\n",
    "Let's take the energy density of gasoline, and assume a 2 minute fill up for a 16 gallon tank."
   ]
  },
  {
   "cell_type": "code",
   "execution_count": 2,
   "metadata": {},
   "outputs": [
    {
     "name": "stdout",
     "output_type": "stream",
     "text": [
      "Fuel Power: 17333333.3333333*watt , Effective Power 3466666.66666667*watt\n"
     ]
    }
   ],
   "source": [
    "from sympy.physics.units import *\n",
    "gallon = 3.78541*liter\n",
    "ed_gasoline = 1.3e8 *J/gallon\n",
    "fill_time = 120 * second\n",
    "tank_size = 16 * gallon\n",
    "power_req = ed_gasoline * tank_size/fill_time\n",
    "megawatt = 1e6*watt\n",
    "rate = convert_to(power_req,megawatt)\n",
    "pump_to_wheels = .2\n",
    "print \"Fuel Power:\",rate,', Effective Power',pump_to_wheels*rate"
   ]
  },
  {
   "cell_type": "markdown",
   "metadata": {},
   "source": [
    "This is a rate of charge of 17 **MW**. Even assuming a pump to wheels efficiency of 20%, this is ~3.5MW from a single charge station. \n",
    "\n",
    "By way of comparison, a level three charger is currently ~80 **kW**. So this charging infrastructure is a non-trivial step beyond where we are now.\n",
    "\n",
    "Let's take a look at the battery"
   ]
  },
  {
   "cell_type": "markdown",
   "metadata": {},
   "source": [
    "## The Battery\n",
    "\n",
    "So how do we determine what configuration of battery might get us to such an effective charge rate?\n",
    "\n",
    "Let's first take the standard configuration in dualfoil, discharge it at a slow rate (to determine maximum capacity), and then charge it at a rate that should get us to two minutes to fill."
   ]
  },
  {
   "cell_type": "code",
   "execution_count": 3,
   "metadata": {},
   "outputs": [
    {
     "name": "stdout",
     "output_type": "stream",
     "text": [
      "\n",
      "\n"
     ]
    }
   ],
   "source": [
    "#instantiate simulator\n",
    "df = dualfoil.dualfoil(\"user\")"
   ]
  },
  {
   "cell_type": "code",
   "execution_count": 4,
   "metadata": {},
   "outputs": [
    {
     "data": {
      "text/plain": [
       "0"
      ]
     },
     "execution_count": 4,
     "metadata": {},
     "output_type": "execute_result"
    }
   ],
   "source": [
    "rate = 1 #A/m^2\n",
    "df.clear_cycles()\n",
    "df.set_current(rate,10000000,minv=3.2) #discharge at i A/m^2 for until we hit cutoff minv\n",
    "df.writeOut()\n",
    "df.runDualFoil(debug=False,output=True,force=False) #don't force dualfoil to run, show realtime output"
   ]
  },
  {
   "cell_type": "code",
   "execution_count": 5,
   "metadata": {},
   "outputs": [
    {
     "data": {
      "text/plain": [
       "1416.8969999999999"
      ]
     },
     "execution_count": 5,
     "metadata": {},
     "output_type": "execute_result"
    }
   ],
   "source": [
    "data = df.readOutput()\n",
    "discharge_time = max(data['t'])-min(data['t'])\n",
    "discharge_time "
   ]
  },
  {
   "cell_type": "markdown",
   "metadata": {},
   "source": [
    "So, in order to find a rate that gets us to 2 minutes full up:"
   ]
  },
  {
   "cell_type": "code",
   "execution_count": 6,
   "metadata": {},
   "outputs": [],
   "source": [
    "target_time = 2.0\n",
    "fast_rate = rate*discharge_time/target_time"
   ]
  },
  {
   "cell_type": "markdown",
   "metadata": {},
   "source": [
    "Now, let's rebuild a cycling protocol to test this out. We'll put a potential hold after the run to \"top\" off the battery"
   ]
  },
  {
   "cell_type": "code",
   "execution_count": 7,
   "metadata": {},
   "outputs": [
    {
     "data": {
      "image/png": "[encoded data removed]",
      "text/plain": [
       "<matplotlib.figure.Figure at 0x7f4c09ff6210>"
      ]
     },
     "metadata": {},
     "output_type": "display_data"
    },
    {
     "data": {
      "text/plain": [
       "<matplotlib.figure.Figure at 0x7f4c09d4f950>"
      ]
     },
     "metadata": {},
     "output_type": "display_data"
    }
   ],
   "source": [
    "df.clear_cycles()\n",
    "df.set_current(rate,10000000,minv=3.2) #discharge at i A/m^2 for until we hit cutoff minv\n",
    "df.set_current(0,10,minv=3.2) #relax\n",
    "df.set_current(-1*fast_rate,100000000,maxv=4.4) #negative rates = charge\n",
    "df.set_current(-.01*fast_rate,1000,maxv=4.4)\n",
    "#df.set_current(-1*rate,1000,maxv=4.4)\n",
    "df.set_potential(4.4,100)\n",
    "df.writeOut()\n",
    "df.runDualFoil(debug=False,output=True,force=False) #don't force dualfoil to run, show realtime output\n",
    "df.ivtplot(ir_emph=True)\n"
   ]
  },
  {
   "cell_type": "markdown",
   "metadata": {},
   "source": [
    "As we can see from the figure above and the utilization calculation, this battery is really quite impeding at the rate required to fill the cell up in two minutes. As a guess, let's try to reduce the thickness of the electrodes to encourage a faster charge. In the script below, we'll run the simulation twice in one go to get the full capacity and then set the charge rate"
   ]
  }
 ],
 "metadata": {
  "kernelspec": {
   "display_name": "Python 2",
   "language": "python",
   "name": "python2"
  },
  "language_info": {
   "codemirror_mode": {
    "name": "ipython",
    "version": 2
   },
   "file_extension": ".py",
   "mimetype": "text/x-python",
   "name": "python",
   "nbconvert_exporter": "python",
   "pygments_lexer": "ipython2",
   "version": "2.7.12"
  }
 },
 "nbformat": 4,
 "nbformat_minor": 2
}
