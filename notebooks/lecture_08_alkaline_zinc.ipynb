{
 "cells": [
  {
   "cell_type": "markdown",
   "metadata": {},
   "source": [
    "# Lecture 08: The \"Zinc Alkaline\" (Zn/MnO$_2$</sub>) Cell \n",
    "## DRAFT\n",
    "---\n",
    "The \"Zinc Alkaline\" battery generally refers to the following cell configuration:\n",
    "\n",
    "- Zn Negative Electrode\n",
    "- $\\gamma/\\epsilon$ MnO$_2$ cathode\n",
    "- KOH (aq) Typically 6M to 8.9M\n",
    "\n",
    "The discharge reaction _generally_ proceeds as\n",
    "\n",
    "$$Zn + 4OH^-\\rightarrow   Zn(OH)_4^{2-} + 2e^-$$\n",
    "\n",
    "$$MnO_2 + H_2O + 2e^- \\rightarrow MnOOH + OH^-$$\n",
    "\n",
    "If this is the case, why isn't this battery rechargeable? This is a tragedy in three parts.\n"
   ]
  },
  {
   "cell_type": "markdown",
   "metadata": {},
   "source": [
    "## Part 1: The \"Anode\" (Zinc Metal)\n",
    "\n",
    "Upon discharge of the zinc anode, if the electrolyte is in large excess, the previous reaction proceeds:\n",
    "\n",
    "$Zn + 4OH^-\\rightarrow   Zn(OH)_4^{2-} + 2e^-$\n",
    "\n",
    "In a practical battery, we'd like to minimize the electrolyte, and in this case as we saturate the electrolyte with $Zn(OH)_4^{2-}$ and the reaction goes to\n",
    "\n",
    "$Zn + 2OH^-\\rightarrow   Zn(OH)_2 + 2e^-$\n",
    "\n",
    "The zinc hydroxide is metastable, and generally decomposed to\n",
    "\n",
    "$Zn(OH)_2 \\rightarrow ZnO + H_2O$\n",
    "\n",
    "And here our challenges begin.\n",
    " "
   ]
  },
  {
   "cell_type": "markdown",
   "metadata": {},
   "source": [
    "## Part 2: The \"Cathode\" (Gamma Phase Manganese Dioxide)\n",
    "\n",
    "As our reaction begins, we get \n",
    "\n",
    "\n",
    "$MnO_2 + H_2O + 2e^- \\rightarrow MnOOH + OH^-$ [2.1]\n",
    "\n",
    "However, what's to say we stop there? Why should we? So we push further and we try to get\n",
    "\n",
    "$MnOOH + H_2O + 2e^- \\rightarrow Mn(OH)_2 + OH^-$ [2.2]\n",
    "\n",
    "That's great, right? Why can't we keep going?\n",
    "\n",
    "\n",
    "Well, when $x$ in $MnOOH_x$ approaches $1$, the follow reaction can become thermodynamically favorable at 'lower' pH's\n",
    "\n",
    "$2MnOOH \\rightarrow Mn_2O_3 (s) + H_2O (l)$ [2.3]\n",
    "\n",
    "*But that's not all!*\n",
    "\n",
    "If we electrochemically react the $MnOOH$ before decomposition reaction [2.3] occurs, we can realize\n",
    "\n",
    "$3MnOOH + e^- \\rightarrow Mn_3O_4 + OH^- + H_2O $ [2.4]\n",
    "\n",
    "*But wait, there's more!*\n",
    "\n",
    "For each of these phases, there are different crystalline configurations.\n",
    "\n",
    "![title](imgs/mno2_heros_journey.png)\n",
    "\n",
    "If there is one thermodynamically \"best\" crystal structure, how and why can all of these different configurations exist at the same conditions?\n",
    "\n",
    "\n",
    "\n"
   ]
  },
  {
   "cell_type": "markdown",
   "metadata": {},
   "source": [
    "## Part 3: Mutually Assured Destruction\n",
    "\n",
    "$Zn^{2+} +++ $\n"
   ]
  },
  {
   "cell_type": "markdown",
   "metadata": {},
   "source": []
  }
 ],
 "metadata": {
  "kernelspec": {
   "display_name": "Python 2",
   "language": "python",
   "name": "python2"
  },
  "language_info": {
   "codemirror_mode": {
    "name": "ipython",
    "version": 2
   },
   "file_extension": ".py",
   "mimetype": "text/x-python",
   "name": "python",
   "nbconvert_exporter": "python",
   "pygments_lexer": "ipython2",
   "version": "2.7.12"
  }
 },
 "nbformat": 4,
 "nbformat_minor": 2
}
