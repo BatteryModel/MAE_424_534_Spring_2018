{
 "cells": [
  {
   "cell_type": "markdown",
   "metadata": {},
   "source": [
    "# Lecture 09 - The Lithium Ion Battery\n",
    "---"
   ]
  },
  {
   "cell_type": "markdown",
   "metadata": {},
   "source": [
    "## 1. Overview\n",
    "\n",
    "A \"lithium\" ion battery refers in general to any system where lithium is both the only intentionally redox active ion in the system but there exist no bulk elemental lithium intentionally within the system, rather the reactions take the form\n",
    "\n",
    "Upon discharge at the negative electrode:\n",
    "\n",
    "$ Li_{o}X \\rightarrow Li_{o-x}X + xLi^+ + xe^-  $\n",
    "\n",
    "Upon discharge at the positive electrode:\n",
    "\n",
    "$ Li_{p-y}Y  + yLi^+ + ye^- \\rightarrow Li_{p}Y $\n",
    "\n",
    "where \n",
    "- $X$ represents the negative host\n",
    "- $Y$ represents the positive host\n",
    "- $o$ represents \"charged\" non-stoichiometry of the negative host\n",
    "- $p-y$ represents \"charged\" non-stoichiometry of the positive host\n",
    "- $o-x$ represents \"discharged\" non-stoichiometry of the negative host\n",
    "- $p$ represents \"discharged\" non-stoichiometry of the positive host\n",
    "\n",
    "The variables represent a wide range of potential hosts and values, respectively, and are a simple abstraction of the wide range of opportunities and challenges of the lithium ion system.\n"
   ]
  },
  {
   "cell_type": "markdown",
   "metadata": {},
   "source": [
    "## 2. A Brief History\n",
    "\n",
    "### 2.1 Lithium vs. Lithium Ion Batteries\n",
    "\n",
    "When we refer to \"lithium batteries\" or \"lithium metal batteries\" we generally refer to cells in which lithium is only ion reacting (not always though), and lithium exists in the pure element state at the negative such that\n",
    "\n",
    "Upon Discharge:\n",
    "\n",
    "$Li \\rightarrow Li^+ + e^-$\n",
    "\n",
    "So why do we bother with a host rather than the pure phase? The short answer is for many of the reasons we covered in the last lecture that illustrated problems with the secondary zinc electrode. "
   ]
  },
  {
   "cell_type": "markdown",
   "metadata": {},
   "source": [
    "## 3. Common Lithium Electrolytes\n",
    "\n",
    "### 3.1 Primary Solvents\n",
    "\n",
    "Due to the exceptional reducing power of Li\n",
    "\n",
    "$Li \\rightarrow Li^+ + e^-$ @ -3 V vs. SHE\n",
    "\n",
    "Lithium metal nor most effective lithium ion negative hosts cannot directly touch our standard electrolyte solvent, water\n",
    "\n",
    "**Dramatic Movie**\n",
    "\n",
    "### 3.2 Salts\n",
    "\n",
    "### 3.3 Why so many choices -> The Solid Electrolyte Interphase Layer\n",
    "\n",
    "### 3.4 Additives\n",
    "\n"
   ]
  },
  {
   "cell_type": "markdown",
   "metadata": {},
   "source": [
    "## 4. Common/Popular Positive Negative Electrodes\n",
    "\n",
    "### 4.1 Graphitic Carbons\n",
    "\n",
    "### 4.2 Silicon\n",
    "\n",
    "### 4.3 Titanium Oxides"
   ]
  },
  {
   "cell_type": "markdown",
   "metadata": {},
   "source": [
    "## 5. Cathodes\n",
    "\n",
    "### 5.1 Graphitic Carbons\n",
    "\n",
    "### 5.2 Silicon\n",
    "\n",
    "### 5.3 Titanium Oxides"
   ]
  },
  {
   "cell_type": "code",
   "execution_count": null,
   "metadata": {},
   "outputs": [],
   "source": []
  }
 ],
 "metadata": {
  "kernelspec": {
   "display_name": "Python 2",
   "language": "python",
   "name": "python2"
  },
  "language_info": {
   "codemirror_mode": {
    "name": "ipython",
    "version": 2
   },
   "file_extension": ".py",
   "mimetype": "text/x-python",
   "name": "python",
   "nbconvert_exporter": "python",
   "pygments_lexer": "ipython2",
   "version": "2.7.12"
  }
 },
 "nbformat": 4,
 "nbformat_minor": 2
}
