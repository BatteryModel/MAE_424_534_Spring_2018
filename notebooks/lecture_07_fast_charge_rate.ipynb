{
 "cells": [
  {
   "cell_type": "markdown",
   "metadata": {},
   "source": [
    "# Lecture 07: Determining a Pathway to Fast Charge\n",
    "---\n",
    "## Motivation\n",
    "A goal for modern electric vehicles is to have the effective charge rate match that of refueling a gas tank. What is required from both the charger and the battery to get this done?\n",
    "\n",
    "We'll use some back of the envelope estimate and dualfoil to determine what engineering pathway might get us there."
   ]
  },
  {
   "cell_type": "code",
   "execution_count": 1,
   "metadata": {},
   "outputs": [],
   "source": [
    "import sys\n",
    "sys.path.append(\"/pithy/code\")\n",
    "from pithy import *\n",
    "import dualfoil\n",
    "import sympy\n",
    "%matplotlib inline"
   ]
  },
  {
   "cell_type": "markdown",
   "metadata": {},
   "source": [
    "## The Charger\n",
    "When we pump gasoline into a tank, how do we get an equivalent charge rate?\n",
    "\n",
    "Let's take the energy density of gasoline, and assume a 2 minute fill up for a 16 gallon tank."
   ]
  },
  {
   "cell_type": "code",
   "execution_count": 2,
   "metadata": {},
   "outputs": [
    {
     "name": "stdout",
     "output_type": "stream",
     "text": [
      "Fuel Power: 17333333.3333333*watt , Effective Power 3466666.66666667*watt\n"
     ]
    }
   ],
   "source": [
    "from sympy.physics.units import *\n",
    "gallon = 3.78541*liter\n",
    "ed_gasoline = 1.3e8 *J/gallon\n",
    "fill_time = 120 * second\n",
    "tank_size = 16 * gallon\n",
    "power_req = ed_gasoline * tank_size/fill_time\n",
    "megawatt = 1e6*watt\n",
    "rate = convert_to(power_req,megawatt)\n",
    "pump_to_wheels = .2\n",
    "print \"Fuel Power:\",rate,', Effective Power',pump_to_wheels*rate"
   ]
  },
  {
   "cell_type": "markdown",
   "metadata": {},
   "source": [
    "This is a rate of charge of 17 **MW**. Even assuming a pump to wheels efficiency of 20%, this is ~3.5MW from a single charge station. \n",
    "\n",
    "By way of comparison, a level three charger is currently ~80 **kW**. So this charging infrastructure is a non-trivial step beyond where we are now.\n",
    "\n",
    "Let's take a look at the battery"
   ]
  },
  {
   "cell_type": "markdown",
   "metadata": {},
   "source": [
    "## The Battery\n",
    "\n",
    "So how do we determine what configuration of battery might get us to such an effective charge rate?\n",
    "\n",
    "Let's first take the standard configuration in dualfoil, discharge it at a slow rate (to determine maximum capacity), and then charge it at a rate that should get us to two minutes to fill."
   ]
  },
  {
   "cell_type": "code",
   "execution_count": 3,
   "metadata": {},
   "outputs": [
    {
     "name": "stdout",
     "output_type": "stream",
     "text": [
      "\n",
      "\n"
     ]
    }
   ],
   "source": [
    "#instantiate simulator\n",
    "df = dualfoil.dualfoil(\"user\")"
   ]
  },
  {
   "cell_type": "code",
   "execution_count": 4,
   "metadata": {},
   "outputs": [
    {
     "data": {
      "text/plain": [
       "0"
      ]
     },
     "execution_count": 4,
     "metadata": {},
     "output_type": "execute_result"
    }
   ],
   "source": [
    "rate = 1 #A/m^2\n",
    "df.clear_cycles()\n",
    "df.set_current(rate,10000000,minv=3.2) #discharge at i A/m^2 for until we hit cutoff minv\n",
    "df.writeOut()\n",
    "df.runDualFoil(debug=False,output=True,force=False) #don't force dualfoil to run, show realtime output"
   ]
  },
  {
   "cell_type": "code",
   "execution_count": 5,
   "metadata": {},
   "outputs": [
    {
     "data": {
      "text/plain": [
       "1416.8969999999999"
      ]
     },
     "execution_count": 5,
     "metadata": {},
     "output_type": "execute_result"
    }
   ],
   "source": [
    "data = df.readOutput()\n",
    "discharge_time = max(data['t'])-min(data['t'])\n",
    "discharge_time "
   ]
  },
  {
   "cell_type": "markdown",
   "metadata": {},
   "source": [
    "So, in order to find a rate that gets us to 2 minutes full up:"
   ]
  },
  {
   "cell_type": "code",
   "execution_count": 6,
   "metadata": {},
   "outputs": [],
   "source": [
    "target_time = 2.0\n",
    "fast_rate = rate*discharge_time/target_time"
   ]
  },
  {
   "cell_type": "markdown",
   "metadata": {},
   "source": [
    "Now, let's rebuild a cycling protocol to test this out"
   ]
  },
  {
   "cell_type": "code",
   "execution_count": 7,
   "metadata": {},
   "outputs": [
    {
     "data": {
      "text/plain": [
       "0"
      ]
     },
     "execution_count": 7,
     "metadata": {},
     "output_type": "execute_result"
    }
   ],
   "source": [
    "df.clear_cycles()\n",
    "df.set_current(rate,10000000,minv=3.2) #discharge at i A/m^2 for until we hit cutoff minv\n",
    "df.set_current(0,10,minv=3.2) #relax\n",
    "df.set_current(-1*fast_rate,100000000,maxv=4.4) #negative rates = charge\n",
    "df.writeOut()\n",
    "df.runDualFoil(debug=False,output=True,force=False) #don't force dualfoil to run, show realtime output"
   ]
  },
  {
   "cell_type": "code",
   "execution_count": 8,
   "metadata": {},
   "outputs": [
    {
     "name": "stdout",
     "output_type": "stream",
     "text": [
      "Upon charging at 708.45 A/m^2 we used 10.72% of the battery\n"
     ]
    },
    {
     "data": {
      "image/png": "[encoded data removed]",
      "text/plain": [
       "<matplotlib.figure.Figure at 0x7ff9c331f9d0>"
      ]
     },
     "metadata": {},
     "output_type": "display_data"
    },
    {
     "data": {
      "text/plain": [
       "<matplotlib.figure.Figure at 0x7ff9c3147250>"
      ]
     },
     "metadata": {},
     "output_type": "display_data"
    }
   ],
   "source": [
    "data = df.readOutput()\n",
    "x_done = min(data['nutil']) #the anode state when discharged\n",
    "y_done = max(data['putil']) #the cathode state when discharged\n",
    "se_1 = data['se']\n",
    "utilization = abs(data['se'][-1]/data['se'][0])\n",
    "\n",
    "print \"Upon charging at %.2f A/m^2 we used %.2f%% of the battery\" %(fast_rate,100*utilization)\n",
    "df.ivtplot(ir_emph=True)"
   ]
  },
  {
   "cell_type": "markdown",
   "metadata": {},
   "source": [
    "As we can see from the figure above and the utilization calculation, this battery is really quite impeding at the rate required to fill the cell up in two minutes. As a guess, let's try to reduce the thickness of the electrodes to encourage a faster charge. In the script below, we'll run the simulation twice in one go to get the full capacity and then set the charge rate"
   ]
  },
  {
   "cell_type": "code",
   "execution_count": 9,
   "metadata": {},
   "outputs": [
    {
     "name": "stdout",
     "output_type": "stream",
     "text": [
      "Upon charging at 34.11 A/m^2 we used 73.94% of the battery\n"
     ]
    },
    {
     "data": {
      "image/png": "[encoded data removed]",
      "text/plain": [
       "<matplotlib.figure.Figure at 0x7ff9c2fbeed0>"
      ]
     },
     "metadata": {},
     "output_type": "display_data"
    },
    {
     "data": {
      "text/plain": [
       "<matplotlib.figure.Figure at 0x7ff9c301fa50>"
      ]
     },
     "metadata": {},
     "output_type": "display_data"
    }
   ],
   "source": [
    "#make the battery electrodes thinner, match on original ratio\n",
    "th_ratio = float(df.parts['h3'].replace(\"d\",\"e\"))/float(df.parts['h1'].replace(\"d\",\"e\"))\n",
    "df.parts['h1'] = 5.0e-6 #microns\n",
    "df.parts['h3'] = df.parts['h1']*th_ratio #microns\n",
    "\n",
    "df.clear_cycles()\n",
    "df.set_current(rate,10000000,minv=3.2) #discharge at i A/m^2 for until we hit cutoff minv\n",
    "df.writeOut()\n",
    "df.runDualFoil(debug=False,output=True,force=False) #don't force dualfoil to run, show realtime output\n",
    "data = df.readOutput()\n",
    "x_done = min(data['nutil']) #the anode state when discharged\n",
    "y_done = max(data['putil']) #the cathode state when discharged\n",
    "discharge_time = max(data['t'])-min(data['t'])\n",
    "\n",
    "target_time = 2.0\n",
    "fast_rate = rate*discharge_time/target_time\n",
    "\n",
    "df.clear_cycles()\n",
    "df.set_current(rate,10000000,minv=3.2) #discharge at i A/m^2 for until we hit cutoff minv\n",
    "df.set_current(0,10,minv=3.2) #relax\n",
    "df.set_current(-1*fast_rate,100000000,maxv=4.4) #negative rates = charge\n",
    "df.writeOut()\n",
    "df.runDualFoil(debug=False,output=True,force=False) #don't force dualfoil to run, show realtime output\n",
    "data = df.readOutput()\n",
    "\n",
    "utilization = abs(data['se'][-1]/data['se'][0])\n",
    "\n",
    "print \"Upon charging at %.2f A/m^2 we used %.2f%% of the battery\" %(fast_rate,100*utilization)\n",
    "df.ivtplot(ir_emph=True)\n"
   ]
  },
  {
   "cell_type": "markdown",
   "metadata": {},
   "source": [
    "So, we now get close to a 2 minute charge, and a further reduction in thickness might do it, but the cost is pretty high: let's look at our energy density"
   ]
  },
  {
   "cell_type": "code",
   "execution_count": 10,
   "metadata": {},
   "outputs": [
    {
     "name": "stdout",
     "output_type": "stream",
     "text": [
      "Battery 1: 109.27 Wh/kg, Battery 2: 12.24 Wh/kg\n",
      "Battery 2/Battery 1 Energy Density = 11.20% \n"
     ]
    }
   ],
   "source": [
    "se_2 = data['se']\n",
    "print 'Battery 1: %.2f Wh/kg, Battery 2: %.2f Wh/kg' % (se_1[0],se_2[0])\n",
    "print 'Battery 2/Battery 1 Energy Density = %.2f%% ' % (100*se_2[0]/se_1[0])"
   ]
  },
  {
   "cell_type": "markdown",
   "metadata": {},
   "source": [
    "So if we just reduce electrode thickness, we take a **90%** hit on energy density! So we have to do something else. Let's try changing the size of the particles in the matrices"
   ]
  },
  {
   "cell_type": "code",
   "execution_count": 11,
   "metadata": {},
   "outputs": [
    {
     "name": "stdout",
     "output_type": "stream",
     "text": [
      "Upon charging at 709.87 A/m^2 we used 24.84% of the battery\n"
     ]
    },
    {
     "data": {
      "image/png": "[encoded data removed]",
      "text/plain": [
       "<matplotlib.figure.Figure at 0x7ff9c3477990>"
      ]
     },
     "metadata": {},
     "output_type": "display_data"
    },
    {
     "name": "stdout",
     "output_type": "stream",
     "text": [
      "Battery 1: 109.27 Wh/kg, Battery 3: 109.52 Wh/kg\n",
      "Battery 3/Battery 1 Energy Density = 100.23% \n"
     ]
    },
    {
     "data": {
      "text/plain": [
       "<matplotlib.figure.Figure at 0x7ff9c3106e10>"
      ]
     },
     "metadata": {},
     "output_type": "display_data"
    }
   ],
   "source": [
    "#make the battery electrodes thick again, match on original ratio\n",
    "df.parts['h1'] = 100.0e-6 #microns\n",
    "df.parts['h3'] = df.parts['h1']*th_ratio #microns\n",
    "\n",
    "\n",
    "#now let's mess with particle size\n",
    "df.parts['Rad1'] = 1e-9\n",
    "df.parts['Rad3'] = 1e-9\n",
    "\n",
    "df.clear_cycles()\n",
    "df.set_current(rate,10000000,minv=3.2) #discharge at i A/m^2 for until we hit cutoff minv\n",
    "df.writeOut()\n",
    "df.runDualFoil(debug=False,output=True,force=False) #don't force dualfoil to run, show realtime output\n",
    "data = df.readOutput()\n",
    "x_done = min(data['nutil']) #the anode state when discharged\n",
    "y_done = max(data['putil']) #the cathode state when discharged\n",
    "discharge_time = max(data['t'])-min(data['t'])\n",
    "\n",
    "target_time = 2.0\n",
    "fast_rate = rate*discharge_time/target_time\n",
    "\n",
    "df.clear_cycles()\n",
    "df.set_current(rate,10000000,minv=3.2) #discharge at i A/m^2 for until we hit cutoff minv\n",
    "df.set_current(0,10,minv=3.2) #relax\n",
    "df.set_current(-1*fast_rate,100000000,maxv=4.4) #negative rates = charge\n",
    "df.writeOut()\n",
    "df.runDualFoil(debug=False,output=True,force=False) #don't force dualfoil to run, show realtime output\n",
    "data = df.readOutput()\n",
    "\n",
    "se_3 = data['se']\n",
    "utilization = abs(se_3[-1]/se_3[0])\n",
    "\n",
    "print \"Upon charging at %.2f A/m^2 we used %.2f%% of the battery\" %(fast_rate,100*utilization)\n",
    "df.ivtplot(ir_emph=True)\n",
    "\n",
    "print 'Battery 1: %.2f Wh/kg, Battery 3: %.2f Wh/kg' % (se_1[0],se_3[0])\n",
    "print 'Battery 3/Battery 1 Energy Density = %.2f%% ' % (100*se_3[0]/se_1[0])\n"
   ]
  },
  {
   "cell_type": "markdown",
   "metadata": {},
   "source": [
    "Nanostructuring helps, but isn't good enough to increase charge rate and as we'll learn in later lectures with increased surface area comes other problems.\n",
    "\n",
    "Might we have to alter the material itself? Let's adjust the diffusion coefficients and see what happens."
   ]
  },
  {
   "cell_type": "code",
   "execution_count": 12,
   "metadata": {},
   "outputs": [
    {
     "name": "stdout",
     "output_type": "stream",
     "text": [
      "Upon charging at 283.94 A/m^2 we used 40.14% of the battery\n"
     ]
    },
    {
     "data": {
      "image/png": "[encoded data removed]",
      "text/plain": [
       "<matplotlib.figure.Figure at 0x7ff9c3180710>"
      ]
     },
     "metadata": {},
     "output_type": "display_data"
    },
    {
     "name": "stdout",
     "output_type": "stream",
     "text": [
      "Battery 1: 109.27 Wh/kg, Battery 4: 72.04 Wh/kg\n",
      "Battery 4/Battery 1 Energy Density = 65.93% \n"
     ]
    },
    {
     "data": {
      "text/plain": [
       "<matplotlib.figure.Figure at 0x7ff9c2eebfd0>"
      ]
     },
     "metadata": {},
     "output_type": "display_data"
    }
   ],
   "source": [
    "#make the battery electrodes thick again, match on original ratio\n",
    "df.parts['h1'] = 30.0e-6 #microns\n",
    "df.parts['h3'] = df.parts['h1']*th_ratio #microns\n",
    "\n",
    "#now let's mess with particle size\n",
    "df.parts['Rad1'] = 100e-9\n",
    "df.parts['Rad3'] = 100e-9\n",
    "\n",
    "#Now try porosity\n",
    "df.parts['ep1'] = .1 \n",
    "df.parts['ep3'] = .1 \n",
    "\n",
    "\n",
    "#now let's mess with diffusion coefficient\n",
    "df.parts['dfs1'] = 1e-10\n",
    "df.parts['dfs3'] = 1e-10\n",
    "\n",
    "df.clear_cycles()\n",
    "df.set_current(rate,10000000,minv=3.2) #discharge at i A/m^2 for until we hit cutoff minv\n",
    "df.writeOut()\n",
    "df.runDualFoil(debug=False,output=True,force=False) #don't force dualfoil to run, show realtime output\n",
    "data = df.readOutput()\n",
    "x_done = min(data['nutil']) #the anode state when discharged\n",
    "y_done = max(data['putil']) #the cathode state when discharged\n",
    "discharge_time = max(data['t'])-min(data['t'])\n",
    "\n",
    "target_time = 2.0\n",
    "fast_rate = rate*discharge_time/target_time\n",
    "\n",
    "df.clear_cycles()\n",
    "df.set_current(rate,10000000,minv=3.2) #discharge at i A/m^2 for until we hit cutoff minv\n",
    "df.set_current(0,10,minv=3.2) #relax\n",
    "df.set_current(-1*fast_rate,100000000,maxv=4.4) #negative rates = charge\n",
    "df.writeOut()\n",
    "df.runDualFoil(debug=False,output=True,force=False) #don't force dualfoil to run, show realtime output\n",
    "data = df.readOutput()\n",
    "\n",
    "se_4 = data['se']\n",
    "utilization = abs(se_4[-1]/se_4[0])\n",
    "\n",
    "print \"Upon charging at %.2f A/m^2 we used %.2f%% of the battery\" %(fast_rate,100*utilization)\n",
    "df.ivtplot(ir_emph=True)\n",
    "\n",
    "print 'Battery 1: %.2f Wh/kg, Battery 4: %.2f Wh/kg' % (se_1[0],se_4[0])\n",
    "print 'Battery 4/Battery 1 Energy Density = %.2f%% ' % (100*se_4[0]/se_1[0])\n"
   ]
  },
  {
   "cell_type": "markdown",
   "metadata": {},
   "source": [
    "So we're still not there, but we see that as we change various material and geometric parameters we can kinda/sorta hone in at a point that is close.\n",
    "\n",
    "But there are a huge number of caveats, and we should be clear that **as of 2018-04-05** a battery does not exist that provides the energy density sufficient for an electric vehicle. There is still much work to be done. \n",
    "\n",
    "There are still many parameters that can be adjusted above..... but remember, if dualfoil cannot do it, there's a strong chance it is not possible, as we are not accounting for\n",
    "\n",
    "- Cycle Life\n",
    "- Calendar\n",
    "- Temperature\n",
    "- Cell Effects\n",
    "- Safety\n"
   ]
  }
 ],
 "metadata": {
  "kernelspec": {
   "display_name": "Python 2",
   "language": "python",
   "name": "python2"
  },
  "language_info": {
   "codemirror_mode": {
    "name": "ipython",
    "version": 2
   },
   "file_extension": ".py",
   "mimetype": "text/x-python",
   "name": "python",
   "nbconvert_exporter": "python",
   "pygments_lexer": "ipython2",
   "version": "2.7.12"
  }
 },
 "nbformat": 4,
 "nbformat_minor": 2
}
